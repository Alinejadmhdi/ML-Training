{
 "cells": [
  {
   "cell_type": "code",
   "execution_count": 1,
   "id": "2c10ff78",
   "metadata": {},
   "outputs": [],
   "source": [
    "import numpy as np\n",
    "import typing"
   ]
  },
  {
   "cell_type": "code",
   "execution_count": 9,
   "id": "0fb6b5d3",
   "metadata": {},
   "outputs": [],
   "source": [
    "\n",
    "\n",
    "def linear_regression_gradient_descent(X: np.ndarray, y: np.ndarray, alpha: float, iterations: int) -> np.ndarray:\n",
    "# Your code here, make sure to round\n",
    "    m, n = X.shape\n",
    "    y = y.reshape(y.shape[0], 1)\n",
    "    theta = np.zeros((n, 1))\n",
    "    for i in range(iterations):\n",
    "        gradient = 1/m * X.T @ (X @ theta - y)\n",
    "        theta -= alpha * gradient\n",
    "    theta = np.round(theta, 4)\n",
    "    return theta"
   ]
  },
  {
   "cell_type": "code",
   "execution_count": null,
   "id": "6df8fa43",
   "metadata": {},
   "outputs": [
    {
     "data": {
      "text/plain": [
       "(2, 1)"
      ]
     },
     "execution_count": 14,
     "metadata": {},
     "output_type": "execute_result"
    }
   ],
   "source": [
    "\n",
    "true_coeffs=np.array([0, 1]).reshape(-1, 1)\n",
    "X = np.random.rand(100, 2)"
   ]
  },
  {
   "cell_type": "code",
   "execution_count": 19,
   "id": "ad943da1",
   "metadata": {},
   "outputs": [],
   "source": [
    "y = X @ true_coeffs + np.random.rand(100, 1) * 0.1\n",
    "alpha = 0.01\n",
    "iterations = 10000"
   ]
  },
  {
   "cell_type": "code",
   "execution_count": 20,
   "id": "dceb9aae",
   "metadata": {},
   "outputs": [
    {
     "name": "stdout",
     "output_type": "stream",
     "text": [
      "(100, 1)\n",
      "(100, 2)\n"
     ]
    },
    {
     "data": {
      "text/plain": [
       "array([[0.0369],\n",
       "       [1.0582]])"
      ]
     },
     "execution_count": 20,
     "metadata": {},
     "output_type": "execute_result"
    }
   ],
   "source": [
    "print(y.shape, X.shape, sep='\\n')\n",
    "linear_regression_gradient_descent(X, y, alpha, iterations)"
   ]
  },
  {
   "cell_type": "code",
   "execution_count": null,
   "id": "dbe99996",
   "metadata": {},
   "outputs": [],
   "source": []
  }
 ],
 "metadata": {
  "kernelspec": {
   "display_name": "tr-ml",
   "language": "python",
   "name": "python3"
  },
  "language_info": {
   "codemirror_mode": {
    "name": "ipython",
    "version": 3
   },
   "file_extension": ".py",
   "mimetype": "text/x-python",
   "name": "python",
   "nbconvert_exporter": "python",
   "pygments_lexer": "ipython3",
   "version": "3.8.19"
  }
 },
 "nbformat": 4,
 "nbformat_minor": 5
}
