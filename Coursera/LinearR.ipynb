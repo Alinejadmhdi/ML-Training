{
 "cells": [
  {
   "cell_type": "code",
   "outputs": [],
   "source": [
    "import numpy as np"
   ],
   "metadata": {
    "collapsed": false,
    "ExecuteTime": {
     "end_time": "2024-02-03T01:23:02.589869200Z",
     "start_time": "2024-02-03T01:23:02.581865200Z"
    }
   },
   "id": "aeecafc435b47fc5",
   "execution_count": 37
  },
  {
   "cell_type": "code",
   "execution_count": 38,
   "id": "initial_id",
   "metadata": {
    "collapsed": true,
    "ExecuteTime": {
     "end_time": "2024-02-03T01:23:02.831683800Z",
     "start_time": "2024-02-03T01:23:02.822679900Z"
    }
   },
   "outputs": [],
   "source": [
    "x_train = np.array([1.0, 2.0])   #features\n",
    "y_train = np.array([300.0, 500.0])   #target value"
   ]
  },
  {
   "cell_type": "code",
   "outputs": [],
   "source": [
    "def cost_function(x,y,w,b):\n",
    "    m = x.shape[0]\n",
    "    f_wb = []\n",
    "    cost = 0\n",
    "    for i in range(0,m):\n",
    "        f_wb.append(w*x[i]+b)\n",
    "        cost += (f_wb[i]-y[i])**2\n",
    "    cost *= 1/(2*m) \n",
    "    return cost\n",
    "        "
   ],
   "metadata": {
    "collapsed": false,
    "ExecuteTime": {
     "end_time": "2024-02-03T01:23:03.047861700Z",
     "start_time": "2024-02-03T01:23:03.036685Z"
    }
   },
   "id": "369d19b2e878dbd0",
   "execution_count": 39
  },
  {
   "cell_type": "code",
   "outputs": [],
   "source": [
    "def gradient_cost_function(x,y,w,b):\n",
    "    m = x.shape[0]\n",
    "    f_wb = []\n",
    "    w_cost = 0\n",
    "    b_cost = 0\n",
    "    for i in range(0,m):\n",
    "        f_wb.append(w*x[i]+b)\n",
    "        w_cost += (f_wb[i]-y[i])*x[i]\n",
    "        b_cost += (f_wb[i]-y[i])\n",
    "    w_cost *= 1/m\n",
    "    b_cost *= 1/m\n",
    "    return w_cost,b_cost"
   ],
   "metadata": {
    "collapsed": false,
    "ExecuteTime": {
     "end_time": "2024-02-03T01:23:03.250718Z",
     "start_time": "2024-02-03T01:23:03.240854400Z"
    }
   },
   "id": "484446eab229202f",
   "execution_count": 40
  },
  {
   "cell_type": "code",
   "outputs": [],
   "source": [
    "def gradient_descent_function(x,y,w,b,learning_rate,steps):\n",
    "    for i in range(0,steps):\n",
    "        dj_w,dj_b = gradient_cost_function(x,y,w,b)\n",
    "        tmp_w = w - learning_rate * dj_w\n",
    "        tmp_b = b - learning_rate * dj_b\n",
    "        w = tmp_w\n",
    "        b = tmp_b\n",
    "    return w,b"
   ],
   "metadata": {
    "collapsed": false,
    "ExecuteTime": {
     "end_time": "2024-02-03T01:23:03.450761700Z",
     "start_time": "2024-02-03T01:23:03.441763900Z"
    }
   },
   "id": "9e96f04874b1fcf2",
   "execution_count": 41
  },
  {
   "cell_type": "code",
   "outputs": [
    {
     "name": "stdout",
     "output_type": "stream",
     "text": [
      "199.99285075131766 100.011567727362\n"
     ]
    }
   ],
   "source": [
    "w = 0\n",
    "b = 0\n",
    "learning_rate = 0.01\n",
    "steps = 10000\n",
    "w , b = gradient_descent_function(x_train,y_train,w,b,learning_rate,steps)\n",
    "print(w,b)"
   ],
   "metadata": {
    "collapsed": false,
    "ExecuteTime": {
     "end_time": "2024-02-03T01:23:03.951430500Z",
     "start_time": "2024-02-03T01:23:03.902598300Z"
    }
   },
   "id": "4b6a84631906328c",
   "execution_count": 42
  },
  {
   "cell_type": "code",
   "outputs": [],
   "source": [],
   "metadata": {
    "collapsed": false
   },
   "id": "4d341b5a8cac3cca"
  }
 ],
 "metadata": {
  "kernelspec": {
   "display_name": "Python 3",
   "language": "python",
   "name": "python3"
  },
  "language_info": {
   "codemirror_mode": {
    "name": "ipython",
    "version": 2
   },
   "file_extension": ".py",
   "mimetype": "text/x-python",
   "name": "python",
   "nbconvert_exporter": "python",
   "pygments_lexer": "ipython2",
   "version": "2.7.6"
  }
 },
 "nbformat": 4,
 "nbformat_minor": 5
}
