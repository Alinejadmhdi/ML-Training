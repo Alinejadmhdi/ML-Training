{
 "cells": [
  {
   "cell_type": "code",
   "execution_count": 2,
   "id": "initial_id",
   "metadata": {
    "collapsed": true,
    "ExecuteTime": {
     "end_time": "2024-02-09T21:38:35.869520995Z",
     "start_time": "2024-02-09T21:38:35.214166476Z"
    }
   },
   "outputs": [],
   "source": [
    "import numpy as np\n",
    "import matplotlib.pyplot as plt\n",
    "import copy\n",
    "import math\n",
    "from utils import *\n",
    "\n",
    "%matplotlib inline"
   ]
  },
  {
   "cell_type": "code",
   "execution_count": 4,
   "outputs": [],
   "source": [
    "# load dataset\n",
    "X_train, y_train = load_data(\"data/ex2data1.txt\")"
   ],
   "metadata": {
    "collapsed": false,
    "ExecuteTime": {
     "end_time": "2024-02-09T21:39:09.258180256Z",
     "start_time": "2024-02-09T21:39:09.214720404Z"
    }
   },
   "id": "42fb7f5da3c3085d"
  },
  {
   "cell_type": "markdown",
   "source": [
    "Loaded the X and y"
   ],
   "metadata": {
    "collapsed": false
   },
   "id": "b6b334c03eaa0378"
  },
  {
   "cell_type": "code",
   "execution_count": 5,
   "outputs": [],
   "source": [
    "def f_wb(x,w,b):\n",
    "    return np.dot(x,w) + b"
   ],
   "metadata": {
    "collapsed": false,
    "ExecuteTime": {
     "end_time": "2024-02-09T21:39:10.672016993Z",
     "start_time": "2024-02-09T21:39:10.668266473Z"
    }
   },
   "id": "1474504da26b737b"
  },
  {
   "cell_type": "code",
   "execution_count": 6,
   "outputs": [],
   "source": [
    "def cost_function(X,w,b,y):\n",
    "    m,n = X.shape\n",
    "    cost = 0\n",
    "    for i in range (m):\n",
    "        error = f_wb(X[i],w,b) - y[i]\n",
    "        cost += error**2\n",
    "    cost /= 2*m\n",
    "    return cost"
   ],
   "metadata": {
    "collapsed": false,
    "ExecuteTime": {
     "end_time": "2024-02-10T07:33:06.025683231Z",
     "start_time": "2024-02-10T07:33:05.981734625Z"
    }
   },
   "id": "7ef6367693e4ca7d"
  },
  {
   "cell_type": "code",
   "execution_count": 7,
   "outputs": [],
   "source": [
    "def gradient_step(X,y,w,b):\n",
    "    m,n = X.shape\n",
    "    dj_db = 0\n",
    "    dj_dw = np.zeros(w.shape)\n",
    "    for i in range(m):\n",
    "        error = f_wb(X[i],w,b) - y[i]\n",
    "        dj_db += error\n",
    "        dj_dw += error * X[i]\n",
    "    dj_dw /= m\n",
    "    dj_db /= m\n",
    "    return dj_dw,dj_db"
   ],
   "metadata": {
    "collapsed": false,
    "ExecuteTime": {
     "end_time": "2024-02-10T07:59:08.169580951Z",
     "start_time": "2024-02-10T07:59:08.126077679Z"
    }
   },
   "id": "9e5c3b3fe1cb7239"
  },
  {
   "cell_type": "code",
   "execution_count": 9,
   "outputs": [],
   "source": [
    "def gradient_descent(X,y,w,b,rate,steps):\n",
    "    m,n = X.shape\n",
    "\n",
    "    for s in range(steps):\n",
    "        dj_dw, dj_db = gradient_step(X,y,w,b)\n",
    "        for j in range(n):\n",
    "            w[j] = w[j] - rate*dj_dw\n",
    "        b = b - rate*dj_db\n",
    "    return w, b"
   ],
   "metadata": {
    "collapsed": false,
    "ExecuteTime": {
     "end_time": "2024-02-10T08:11:57.066116757Z",
     "start_time": "2024-02-10T08:11:57.042392958Z"
    }
   },
   "id": "ea42238f7481b0ef"
  },
  {
   "cell_type": "code",
   "execution_count": null,
   "outputs": [],
   "source": [],
   "metadata": {
    "collapsed": false
   },
   "id": "6c8f0610b23a3c1e"
  }
 ],
 "metadata": {
  "kernelspec": {
   "display_name": "Python 3",
   "language": "python",
   "name": "python3"
  },
  "language_info": {
   "codemirror_mode": {
    "name": "ipython",
    "version": 2
   },
   "file_extension": ".py",
   "mimetype": "text/x-python",
   "name": "python",
   "nbconvert_exporter": "python",
   "pygments_lexer": "ipython2",
   "version": "2.7.6"
  }
 },
 "nbformat": 4,
 "nbformat_minor": 5
}
