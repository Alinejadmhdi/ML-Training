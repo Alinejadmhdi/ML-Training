{
 "cells": [
  {
   "cell_type": "code",
   "execution_count": 69,
   "id": "initial_id",
   "metadata": {
    "collapsed": true,
    "ExecuteTime": {
     "end_time": "2024-02-04T00:10:48.795594700Z",
     "start_time": "2024-02-04T00:10:48.790590700Z"
    }
   },
   "outputs": [],
   "source": [
    "import copy\n",
    "import numpy as np\n",
    "from lab_utils_common import sigmoid\n"
   ]
  },
  {
   "cell_type": "code",
   "outputs": [],
   "source": [
    "X_train = np.array([[0.5, 1.5], [1,1], [1.5, 0.5], [3, 0.5], [2, 2], [1, 2.5]])\n",
    "y_train = np.array([0, 0, 0, 1, 1, 1])"
   ],
   "metadata": {
    "collapsed": false,
    "ExecuteTime": {
     "end_time": "2024-02-04T00:10:49.083288900Z",
     "start_time": "2024-02-04T00:10:49.065281700Z"
    }
   },
   "id": "c5f24fa55ad3b99f",
   "execution_count": 70
  },
  {
   "cell_type": "code",
   "outputs": [],
   "source": [
    "def gradient_logistic(X,y,w,b):\n",
    "    m,n = X.shape\n",
    "    dj_dw = np.zeros((n,))                           #(n,)\n",
    "    dj_db = 0.\n",
    "    for i in range(m):\n",
    "        f_wb = sigmoid(np.dot(X[i],w)+b)\n",
    "        error = f_wb - y[i]\n",
    "        for j in range(n):\n",
    "            dj_dw[j] += error * X[i,j]\n",
    "        dj_db += error\n",
    "        \n",
    "    dj_dw /= m\n",
    "    dj_db /= m\n",
    "\n",
    "    return dj_dw, dj_db"
   ],
   "metadata": {
    "collapsed": false,
    "ExecuteTime": {
     "end_time": "2024-02-04T00:10:49.269575900Z",
     "start_time": "2024-02-04T00:10:49.253569Z"
    }
   },
   "id": "fc5c7b6156c66add",
   "execution_count": 71
  },
  {
   "cell_type": "code",
   "outputs": [],
   "source": [
    "def gradient_descent_logistic(X,y,w,b,learning_rate,steps):\n",
    "    w_in = copy.deepcopy(w)\n",
    "    b_in = b\n",
    "    for i in range(steps):\n",
    "        dj_dw, dj_db = gradient_logistic(X,y,w_in,b_in)\n",
    "        w_in -= learning_rate*dj_dw\n",
    "        b_in -= learning_rate*dj_db\n",
    "    return w_in, b_in"
   ],
   "metadata": {
    "collapsed": false,
    "ExecuteTime": {
     "end_time": "2024-02-04T00:10:49.516213400Z",
     "start_time": "2024-02-04T00:10:49.485203400Z"
    }
   },
   "id": "a69d535e13e3e7e1",
   "execution_count": 72
  },
  {
   "cell_type": "code",
   "outputs": [],
   "source": [
    "m,n = X_train.shape\n",
    "w = np.zeros_like(X_train[0])\n",
    "b = 0\n",
    "learning_rate = 0.1\n",
    "steps=10000\n",
    "w_end, b_end = gradient_descent_logistic(X_train,y_train,w,b,learning_rate,10000)"
   ],
   "metadata": {
    "collapsed": false,
    "ExecuteTime": {
     "end_time": "2024-02-04T00:10:51.589777500Z",
     "start_time": "2024-02-04T00:10:50.093528700Z"
    }
   },
   "id": "6b45a06fd1afec1e",
   "execution_count": 73
  },
  {
   "cell_type": "code",
   "outputs": [
    {
     "data": {
      "text/plain": "(array([5.28, 5.08]), -14.222409982019837)"
     },
     "execution_count": 74,
     "metadata": {},
     "output_type": "execute_result"
    }
   ],
   "source": [
    "w_end,b_end"
   ],
   "metadata": {
    "collapsed": false,
    "ExecuteTime": {
     "end_time": "2024-02-04T00:10:51.594922600Z",
     "start_time": "2024-02-04T00:10:51.589777500Z"
    }
   },
   "id": "b4c8548034d31ac3",
   "execution_count": 74
  },
  {
   "cell_type": "code",
   "outputs": [],
   "source": [],
   "metadata": {
    "collapsed": false
   },
   "id": "c73c45e3adc1894b"
  }
 ],
 "metadata": {
  "kernelspec": {
   "display_name": "Python 3",
   "language": "python",
   "name": "python3"
  },
  "language_info": {
   "codemirror_mode": {
    "name": "ipython",
    "version": 2
   },
   "file_extension": ".py",
   "mimetype": "text/x-python",
   "name": "python",
   "nbconvert_exporter": "python",
   "pygments_lexer": "ipython2",
   "version": "2.7.6"
  }
 },
 "nbformat": 4,
 "nbformat_minor": 5
}
