{
 "cells": [
  {
   "cell_type": "code",
   "execution_count": 1,
   "id": "initial_id",
   "metadata": {
    "collapsed": true,
    "ExecuteTime": {
     "end_time": "2024-02-10T08:15:27.888334441Z",
     "start_time": "2024-02-10T08:15:27.454038459Z"
    }
   },
   "outputs": [],
   "source": [
    "import numpy as np\n",
    "import matplotlib.pyplot as plt\n",
    "import copy\n",
    "import math\n",
    "from utils import *\n",
    "\n",
    "%matplotlib inline"
   ]
  },
  {
   "cell_type": "code",
   "execution_count": 2,
   "outputs": [],
   "source": [
    "# load dataset\n",
    "X_train, y_train = load_data(\"data/ex2data1.txt\")"
   ],
   "metadata": {
    "collapsed": false,
    "ExecuteTime": {
     "end_time": "2024-02-10T08:15:30.390738191Z",
     "start_time": "2024-02-10T08:15:30.363011509Z"
    }
   },
   "id": "9555fc2db206b926"
  },
  {
   "cell_type": "code",
   "execution_count": 3,
   "outputs": [],
   "source": [
    "def sigmoid(z):\n",
    "    return 1/(1+np.exp(-1*z))"
   ],
   "metadata": {
    "collapsed": false,
    "ExecuteTime": {
     "end_time": "2024-02-10T08:25:27.818227523Z",
     "start_time": "2024-02-10T08:25:27.776221945Z"
    }
   },
   "id": "d30754b715d3d609"
  },
  {
   "cell_type": "code",
   "execution_count": 4,
   "outputs": [],
   "source": [
    "def f_wb(x,w,b):\n",
    "    return sigmoid(np.dot(x,w) + b)"
   ],
   "metadata": {
    "collapsed": false,
    "ExecuteTime": {
     "end_time": "2024-02-10T08:28:49.457386582Z",
     "start_time": "2024-02-10T08:28:49.414679263Z"
    }
   },
   "id": "7068d12648f4a81d"
  },
  {
   "cell_type": "code",
   "execution_count": 5,
   "outputs": [],
   "source": [
    "def cost_function(X,y,w,b,lambda_ = 1):\n",
    "    m, n = X.shape\n",
    "    cost, reg_cost = 0\n",
    "    for i in range(m):\n",
    "        fv_wb = f_wb(X[i],w,b)\n",
    "        cost += y[i]*np.log(fv_wb)+(1-y[i])*np.log(1-fv_wb)\n",
    "    for j in range(n):\n",
    "        reg_cost += w[j]**2\n",
    "    cost /= -m\n",
    "    reg_cost *= (lambda_/(2*m))\n",
    "    cost += reg_cost\n",
    "    return cost"
   ],
   "metadata": {
    "collapsed": false,
    "ExecuteTime": {
     "end_time": "2024-02-10T09:59:34.286783900Z",
     "start_time": "2024-02-10T09:59:34.242055837Z"
    }
   },
   "id": "fd97ba5154f482d5"
  },
  {
   "cell_type": "code",
   "execution_count": 7,
   "outputs": [],
   "source": [
    "def gradient_step(X,y,w,b,lambda_=1):\n",
    "    dj_dw = np.zeros(w.shape)\n",
    "    dj_db = 0\n",
    "    m, n = X.shape \n",
    "    for i in range(m):\n",
    "        error = f_wb(X[i],w,b) - y[i]\n",
    "        dj_dw += error * X[i]\n",
    "        dj_db += error\n",
    "    dj_db /= m\n",
    "    dj_dw /= m\n",
    "    dj_dw += lambda_/m * w\n",
    "    return dj_dw, dj_db"
   ],
   "metadata": {
    "collapsed": false,
    "ExecuteTime": {
     "end_time": "2024-02-10T12:06:51.890190881Z",
     "start_time": "2024-02-10T12:06:51.848434438Z"
    }
   },
   "id": "7abf4d22926bcc79"
  },
  {
   "cell_type": "code",
   "execution_count": 8,
   "outputs": [],
   "source": [
    "def gradient_descent(X,y,w,b,rate,steps):\n",
    "    for s in range(steps):\n",
    "        dj_dw,dj_db = gradient_step(X,y,w,b)\n",
    "        w -= rate*dj_dw\n",
    "        b -= rate*dj_db\n",
    "    return w, b"
   ],
   "metadata": {
    "collapsed": false,
    "ExecuteTime": {
     "end_time": "2024-02-10T12:40:18.643624623Z",
     "start_time": "2024-02-10T12:40:18.577766454Z"
    }
   },
   "id": "30c4887f102ce746"
  },
  {
   "cell_type": "code",
   "execution_count": null,
   "outputs": [],
   "source": [],
   "metadata": {
    "collapsed": false
   },
   "id": "fabbe5ea6453241b"
  }
 ],
 "metadata": {
  "kernelspec": {
   "display_name": "Python 3",
   "language": "python",
   "name": "python3"
  },
  "language_info": {
   "codemirror_mode": {
    "name": "ipython",
    "version": 2
   },
   "file_extension": ".py",
   "mimetype": "text/x-python",
   "name": "python",
   "nbconvert_exporter": "python",
   "pygments_lexer": "ipython2",
   "version": "2.7.6"
  }
 },
 "nbformat": 4,
 "nbformat_minor": 5
}
